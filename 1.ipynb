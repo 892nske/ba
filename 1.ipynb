{
 "cells": [
  {
   "cell_type": "markdown",
   "id": "1dc4b303-25e1-4a64-b05e-a480ac2af627",
   "metadata": {},
   "source": [
    "# 第1回 基礎統計1\n",
    "\n",
    "1. 度数分布（frequency distribution）\n",
    "2. 平均値（mean value, average value）\n",
    "3. 分散（variance）と標準偏差（standard deviation）\n",
    "4. サンプリング理論"
   ]
  },
  {
   "cell_type": "markdown",
   "id": "7646b6b0-1a76-4460-85b2-5f32af83b69d",
   "metadata": {},
   "source": [
    "## 1.度数分布（frequency distribution）"
   ]
  },
  {
   "cell_type": "markdown",
   "id": "04860d65-c617-41d7-9c8e-333e17a7f347",
   "metadata": {},
   "source": [
    "## 2. 平均値（mean value, average value）"
   ]
  },
  {
   "cell_type": "markdown",
   "id": "bb408dc2-5026-4900-ab16-ee02b09047ee",
   "metadata": {},
   "source": [
    "## 3. 分散（variance）と標準偏差（standard deviation）"
   ]
  },
  {
   "cell_type": "markdown",
   "id": "6dcc230b-dbf1-4b0a-9292-a65ad95f8f24",
   "metadata": {},
   "source": [
    "## 4. サンプリング理論\n"
   ]
  },
  {
   "cell_type": "code",
   "execution_count": null,
   "id": "92a17f27-ce21-4de8-b40b-43be41063a90",
   "metadata": {},
   "outputs": [],
   "source": []
  }
 ],
 "metadata": {
  "kernelspec": {
   "display_name": "Python 3 (ipykernel)",
   "language": "python",
   "name": "python3"
  },
  "language_info": {
   "codemirror_mode": {
    "name": "ipython",
    "version": 3
   },
   "file_extension": ".py",
   "mimetype": "text/x-python",
   "name": "python",
   "nbconvert_exporter": "python",
   "pygments_lexer": "ipython3",
   "version": "3.8.12"
  }
 },
 "nbformat": 4,
 "nbformat_minor": 5
}
